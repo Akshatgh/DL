{
  "nbformat": 4,
  "nbformat_minor": 0,
  "metadata": {
    "colab": {
      "provenance": []
    },
    "kernelspec": {
      "name": "python3",
      "display_name": "Python 3"
    },
    "language_info": {
      "name": "python"
    }
  },
  "cells": [
    {
      "cell_type": "code",
      "source": [
        "import numpy as np"
      ],
      "metadata": {
        "id": "2ml8VOWsO8_E"
      },
      "execution_count": 17,
      "outputs": []
    },
    {
      "cell_type": "code",
      "source": [
        "# Input and output data\n",
        "input_data = np.array([[0, 0], [0, 1], [1, 0], [1, 1]])\n",
        "expected_output = np.array([0, 1, 1, 0])"
      ],
      "metadata": {
        "id": "XICLUWpuO_0O"
      },
      "execution_count": 18,
      "outputs": []
    },
    {
      "cell_type": "code",
      "source": [
        "# Initialize weights randomly between -1 and 1\n",
        "hidden_layer1_weights = np.random.uniform(-1, 1, 2)\n",
        "hidden_layer2_weights = np.random.uniform(-1, 1, 2)\n",
        "output_layer_weights = np.random.uniform(-1, 1, 2)"
      ],
      "metadata": {
        "id": "ef_w_b7pPEWh"
      },
      "execution_count": 19,
      "outputs": []
    },
    {
      "cell_type": "code",
      "source": [
        "# Learning rate\n",
        "eta = 1.5"
      ],
      "metadata": {
        "id": "bM5wd-fCPGR2"
      },
      "execution_count": 20,
      "outputs": []
    },
    {
      "cell_type": "code",
      "source": [
        "# Activation function: Step function\n",
        "def activation_func(x):\n",
        "    return 1 if x >= 1 else 0"
      ],
      "metadata": {
        "id": "TY5ogY1PPIBJ"
      },
      "execution_count": 21,
      "outputs": []
    },
    {
      "cell_type": "code",
      "source": [
        "# Perceptron function\n",
        "def perceptron(input_vals, weights):\n",
        "    return activation_func(np.dot(input_vals, weights))"
      ],
      "metadata": {
        "id": "kTWgvqT6PKgQ"
      },
      "execution_count": 22,
      "outputs": []
    },
    {
      "cell_type": "code",
      "source": [
        "# Store weights history\n",
        "history_of_weights = []\n",
        "iteration_count = 0"
      ],
      "metadata": {
        "id": "afbFsZ3APOgs"
      },
      "execution_count": 24,
      "outputs": []
    },
    {
      "cell_type": "code",
      "source": [
        "while True:\n",
        "    all_correct = True\n",
        "    iteration_count += 1\n",
        "\n",
        "    history_of_weights.append({\n",
        "        'hidden1_weights': hidden_layer1_weights.copy(),\n",
        "        'hidden2_weights': hidden_layer2_weights.copy(),\n",
        "        'output_weights': output_layer_weights.copy()\n",
        "    })\n",
        "\n",
        "    for i in range(len(input_data)):\n",
        "        x1, x2 = input_data[i]\n",
        "        not_x1 = 1 - x1\n",
        "        not_x2 = 1 - x2\n",
        "\n",
        "        z1_input = np.array([x1 * not_x2, x1 * not_x1])\n",
        "        z2_input = np.array([not_x1 * x2, x2 * not_x2])\n",
        "\n",
        "        z1_output = perceptron(z1_input, hidden_layer1_weights)\n",
        "        z2_output = perceptron(z2_input, hidden_layer2_weights)\n",
        "\n",
        "        final_input = np.array([z1_output, z2_output])\n",
        "        y = np.dot(final_input, output_layer_weights)\n",
        "        prediction = activation_func(y)\n",
        "\n",
        "        error = expected_output[i] - prediction\n",
        "\n",
        "        if z1_output != expected_output[i]:\n",
        "            hidden_layer1_weights += eta * error * z1_input\n",
        "\n",
        "        if z2_output != expected_output[i]:\n",
        "            hidden_layer2_weights += eta * error * z2_input\n",
        "\n",
        "        if prediction != expected_output[i]:\n",
        "            output_layer_weights += eta * error * final_input\n",
        "\n",
        "        if prediction != expected_output[i]:\n",
        "            all_correct = False\n",
        "\n",
        "    if all_correct:\n",
        "        break\n",
        "\n",
        "    # Print weights for the first 5 iterations\n",
        "    if iteration_count <= 5:\n",
        "        print(f\"\\nWeights for iteration {iteration_count}:\")\n",
        "        print(f\"  Weights for z1: {history_of_weights[-1]['hidden1_weights']}\")\n",
        "        print(f\"  Weights for z2: {history_of_weights[-1]['hidden2_weights']}\")\n",
        "        print(f\"  Weights for final output: {history_of_weights[-1]['output_weights']}\")\n"
      ],
      "metadata": {
        "id": "Dbb-RWsQPQci"
      },
      "execution_count": 27,
      "outputs": []
    },
    {
      "cell_type": "code",
      "source": [
        "print(\"Final Weights for z1:\")\n",
        "print(f\"w11: {hidden_layer1_weights[0]}, w12: {hidden_layer1_weights[1]}\")\n",
        "\n",
        "print(\"Final Weights for z2:\")\n",
        "print(f\"w21: {hidden_layer2_weights[0]}, w22: {hidden_layer2_weights[1]}\")\n",
        "\n",
        "print(\"Weights between z1 and final output:\")\n",
        "print(f\"v1: {output_layer_weights[0]}\")\n",
        "\n",
        "print(\"Weights between z2 and final output:\")\n",
        "print(f\"v2: {output_layer_weights[1]}\")"
      ],
      "metadata": {
        "colab": {
          "base_uri": "https://localhost:8080/"
        },
        "id": "s6zKB-4BPdfD",
        "outputId": "571cfe0c-b6dc-4c15-b1b1-881d408ce93f"
      },
      "execution_count": 28,
      "outputs": [
        {
          "output_type": "stream",
          "name": "stdout",
          "text": [
            "Final Weights for z1:\n",
            "w11: 2.277384419908733, w12: 0.26732301108396084\n",
            "Final Weights for z2:\n",
            "w21: 1.0028513129626728, w22: -0.21301135376120683\n",
            "Weights between z1 and final output:\n",
            "v1: 1.107635509573699\n",
            "Weights between z2 and final output:\n",
            "v2: 1.779486729559178\n"
          ]
        }
      ]
    },
    {
      "cell_type": "code",
      "source": [
        "# Final predictions\n",
        "final_predictions = []\n",
        "for i in range(len(input_data)):\n",
        "    x1, x2 = input_data[i]\n",
        "    not_x1 = 1 - x1\n",
        "    not_x2 = 1 - x2\n",
        "\n",
        "    z1_input = np.array([x1 * not_x2, x1 * not_x1])\n",
        "    z2_input = np.array([not_x1 * x2, x2 * not_x2])\n",
        "\n",
        "    z1_output = perceptron(z1_input, hidden_layer1_weights)\n",
        "    z2_output = perceptron(z2_input, hidden_layer2_weights)\n",
        "\n",
        "    final_input = np.array([z1_output, z2_output])\n",
        "    y = np.dot(final_input, output_layer_weights)\n",
        "    final_predictions.append(activation_func(y))\n",
        "\n",
        "print(\"Final Predictions:\", final_predictions)\n",
        "print(\"Expected Outputs:\", expected_output.tolist())\n",
        "print(f\"Number of iterations: {iteration_count}\")"
      ],
      "metadata": {
        "colab": {
          "base_uri": "https://localhost:8080/"
        },
        "id": "TwfrwBT7Pn5m",
        "outputId": "f02c5418-0dcb-4c52-b3b1-406ee2c947da"
      },
      "execution_count": 29,
      "outputs": [
        {
          "output_type": "stream",
          "name": "stdout",
          "text": [
            "Final Predictions: [0, 1, 1, 0]\n",
            "Expected Outputs: [0, 1, 1, 0]\n",
            "Number of iterations: 5\n"
          ]
        }
      ]
    },
    {
      "cell_type": "code",
      "source": [
        "# Print weights for the first and last iteration\n",
        "print(\"\\nWeights for the first iteration:\")\n",
        "print(f\"Iteration 1:\")\n",
        "print(f\"  Weights for z1: {history_of_weights[0]['hidden1_weights']}\")\n",
        "print(f\"  Weights for z2: {history_of_weights[0]['hidden2_weights']}\")\n",
        "print(f\"  Weights for final output: {history_of_weights[0]['output_weights']}\")\n",
        "\n",
        "print(\"\\nWeights for the last iteration:\")\n",
        "print(f\"Iteration {iteration_count}:\")\n",
        "print(f\"  Weights for z1: {history_of_weights[-1]['hidden1_weights']}\")\n",
        "print(f\"  Weights for z2: {history_of_weights[-1]['hidden2_weights']}\")\n",
        "print(f\"  Weights for final output: {history_of_weights[-1]['output_weights']}\")"
      ],
      "metadata": {
        "colab": {
          "base_uri": "https://localhost:8080/"
        },
        "id": "ElS3itOFP1Pq",
        "outputId": "e141aafd-2658-46fe-8ef1-ccb3c75f8e1f"
      },
      "execution_count": 30,
      "outputs": [
        {
          "output_type": "stream",
          "name": "stdout",
          "text": [
            "\n",
            "Weights for the first iteration:\n",
            "Iteration 1:\n",
            "  Weights for z1: [-0.72261558  0.26732301]\n",
            "  Weights for z2: [-0.49714869 -0.21301135]\n",
            "  Weights for final output: [-0.39236449  0.27948673]\n",
            "\n",
            "Weights for the last iteration:\n",
            "Iteration 5:\n",
            "  Weights for z1: [2.27738442 0.26732301]\n",
            "  Weights for z2: [ 1.00285131 -0.21301135]\n",
            "  Weights for final output: [1.10763551 1.77948673]\n"
          ]
        }
      ]
    }
  ]
}